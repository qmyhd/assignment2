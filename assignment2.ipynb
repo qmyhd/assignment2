{
  "cells": [
    {
      "cell_type": "markdown",
      "id": "13ad028b-72b7-43ed-aa78-96fd4e518040",
      "metadata": {
        "id": "13ad028b-72b7-43ed-aa78-96fd4e518040"
      },
      "source": [
        "# Assignment: Data Wrangling and Exploratory Data Analysis\n",
        "## Do Q1 and Q2, and one other question.\n",
        "`! git clone https://www.github.com/DS3001/assignment2`"
      ]
    },
    {
      "cell_type": "markdown",
      "id": "5735a4d4-8be8-433a-a351-70eb8002e632",
      "metadata": {
        "id": "5735a4d4-8be8-433a-a351-70eb8002e632"
      },
      "source": [
        "**Q1.** Open the \"tidy_data.pdf\" document in the repo, which is a paper called Tidy Data by Hadley Wickham.\n",
        "\n",
        "  1. Read the abstract. What is this paper about? \n",
        "  \n",
        "  The paper focuses on the concept of data tidying as a crucial component of data cleaning. The paper aims to make data cleaning more efficient by proposing a standardized structure for datasets, making them easier to manipulate, model, and visualize.\n",
        "  \n",
        "  2. Read the introduction. What is the \"tidy data standard\" intended to accomplish? \n",
        "  \n",
        "  The \"tidy data standard\" aims to create a specific structure for datasets that simplifies data manipulation, modeling, and visualization. It is intended to make the data cleaning process more effective and efficient.\n",
        "  \n",
        "  3. Read the intro to section 2. What does this sentence mean: \"Like families, tidy datasets are all alike but every messy dataset is messy in its own way.\" What does this sentence mean: \"For a given dataset, it’s usually easy to figure out what are observations and what are variables, but it is surprisingly difficult to precisely define variables and observations in general.\"\n",
        "\n",
        "  The first sentence means that tidy datasets all share certain characteristics that make them tidy, but messy datasets can be messy in many different ways. The second sentence means that for a specific dataset, it is often straightforward to identify which components are observations and which are variables. However, coming up with general, precise definitions of observations and variables that apply across all datasets is tricky.\n",
        "\n",
        "  4. Read Section 2.2. How does Wickham define values, variables, and observations?\n",
        "  \n",
        "  Wickham defines values as the actual data points or numbers. Variables are the characteristics or attributes about which data is collected. Observations are a single record or unit describing an instance of the variables collected.\n",
        "\n",
        "  5. How is \"Tidy Data\" defined in section 2.3?\n",
        "  \n",
        "  Tidy data is defined as data where: Each variable has its own column, each observation has its own row, and each value has its own cell.\n",
        "\n",
        "  6. Read the intro to Section 3 and Section 3.1. What are the 5 most common problems with messy datasets? Why are the data in Table 4 messy? What is \"melting\" a dataset?\n",
        "  \n",
        "  The 5 most common problems with messy datasets are: Column headers are values, not variable names. Multiple variables stored in one column. Variables stored in both rows and columns. Multiple types of observational units stored in the same table. A single observational unit split across multiple tables. The data in Table 4 is messy because the column headers contain values, not variable names. Melting is the process of turning columns into rows to tidy a dataset.\n",
        "\n",
        "\n",
        "  7. Why, specifically, is table 11 messy but table 12 tidy and \"molten\"?\n",
        "  Table 11 is messy because variables are stored across both rows and columns. Table 12 is tidy and molten because each variable now has its own column, with each observation in a row.\n",
        "\n",
        "  8. Read Section 6. What is the \"chicken-and-egg\" problem with focusing on tidy data? What does Wickham hope happens in the future with further work on the subject of data wrangling?\n",
        "  The \"chicken-and-egg\" problem is that tidy data is only useful if tools exist to work with it, but tidy tools will be limited by the tidy data structure. So they are interdependent, making it hard to improve one without the other.Wickham wishes for ongoing teamwork to find new ways of defining tidy data, moving beyond minor upgrades. He also wants more research on how people understand data analysis, using user tests and similar approaches."
      ]
    },
    {
      "cell_type": "markdown",
      "id": "da879ea7-8aac-48a3-b6c2-daea56d2e072",
      "metadata": {
        "id": "da879ea7-8aac-48a3-b6c2-daea56d2e072"
      },
      "source": [
        "**Q2.** This question provides some practice cleaning variables which have common problems.\n",
        "1. Numeric variable: For `./data/airbnb_hw.csv`, clean the `Price` variable as well as you can, and explain the choices you make. How many missing values do you end up with? (Hint: What happens to the formatting when a price goes over 999 dollars, say from 675 to 1,112?) The 'Price' column contains inconsistencies in formatting:Prices below $1,000 appear as regular integers (e.g., '675'). Prices of $1,000 or above include a comma (e.g., '1,112'). Commas were removed to standardize the format and the column was converted to a numerical type. There are zero missing values in the 'Price' column.\n",
        "Checked for unique values in the 'Price' column to identify any inconsistencies or special formatting-->Sort and display some of the unique values to identify issues.\n",
        "2. Categorical variable: For the `./data/sharks.csv` data covered in the lecture, clean the \"Type\" variable as well as you can, and explain the choices you make.\n",
        "Checked for unique values in the 'Type' column to identify any inconsistencies or special formatting-->Sort and display some of the unique values to identify issues. The 'Type' column contains mixed types, including both strings and numerical (or null) values.\n",
        "Cleaning:\n",
        "Handle missing values (NaN) by categorizing them as 'Unknown'.\n",
        "Standardize the boating-related types to a single term 'Boating'.\n",
        "Keep the well-defined types ('Provoked', 'Unprovoked') as they are.\n",
        "Categorize ambiguous or unclear types ('Invalid', 'Unconfirmed', 'Unverified', 'Questionable') as 'Ambiguous'.\n",
        "Keep other specific types ('Sea Disaster', 'Watercraft') as they are.\n",
        "Categorize ongoing cases ('Under investigation') as 'Under Investigation'.\n",
        "\n",
        "3. Dummy variable: For the pretrial data covered in the lecture, clean the `WhetherDefendantWasReleasedPretrial` variable as well as you can, and, in particular, replace missing values with `np.nan`.\n",
        "The value '9', presumed to be a placeholder for missing data, has been replaced with np.nan. The column has been converted to a numerical type \n",
        "4. Missing values, not at random: For the pretrial data covered in the lecture, clean the `ImposedSentenceAllChargeInContactEvent` variable as well as you can, and explain the choices you make. (Hint: Look at the `SentenceTypeAllChargesAtConvictionInContactEvent` variable.)\n",
        "For rows where SentenceTypeAllChargesAtConvictionInContactEvent is either '9' or '4', it seems appropriate to have ImposedSentenceAllChargeInContactEvent as np.nan since these codes could refer to a status that precludes a sentence. Converted all entries in ImposedSentenceAllChargeInContactEvent to a numerical format."
      ]
    },
    {
      "cell_type": "markdown",
      "id": "c11bcd96-2834-41a4-80fe-d354b4277fd9",
      "metadata": {
        "id": "c11bcd96-2834-41a4-80fe-d354b4277fd9"
      },
      "source": [
        "**Q3.** This question provides some practice doing exploratory data analysis and visualization.\n",
        "\n",
        "The \"relevant\" variables for this question are:\n",
        "  - `level` - Level of institution (4-year, 2-year)\n",
        "  - `aid_value` - The average amount of student aid going to undergraduate recipients\n",
        "  - `control` - Public, Private not-for-profit, Private for-profit\n",
        "  - `grad_100_value` - percentage of first-time, full-time, degree-seeking undergraduates who complete a degree or certificate program within 100 percent of expected time (bachelor's-seeking group at 4-year institutions)\n",
        "\n",
        "1. Load the `./data/college_completion.csv` data with Pandas.\n",
        "2. What are are the dimensions of the data? How many observations are there? What are the variables included? Use `.head()` to examine the first few rows of data.\n",
        "\n",
        "The dataset has 3,798 observations and 63 variables. The dataset contains a wide range of variables including 'index', 'unitid', 'chronname', 'city', 'state', 'level', 'control', and many more. \n",
        "\n",
        "3. Cross tabulate `control` and `level`. Describe the patterns you see.\n",
        "\n",
        "Private for-profit institutions: 465 offer 2-year programs and 527 offer 4-year programs.\n",
        "Private not-for-profit institutions: 68 offer 2-year programs and 1,180 offer 4-year programs.\n",
        "Public institutions: 926 offer 2-year programs and 632 offer 4-year programs. Private not-for-profit institutions are more likely to offer 4-year programs. Public institutions offer a significant number of 2-year programs. Private for-profit institutions have a relatively balanced distribution between 2-year and 4-year programs.\n",
        "\n",
        "4. For `grad_100_value`, create a histogram, kernel density plot, boxplot, and statistical description.\n",
        "\n",
        "5. For `grad_100_value`, create a grouped kernel density plot by `control` and by `level`. Describe what you see. Use `groupby` and `.describe` to make grouped calculations of statistical descriptions of `grad_100_value` by `level` and `control`. Which institutions appear to have the best graduation rates?\n",
        "\n",
        "Private not-for-profit institutions based of control, 4-year institutions generally have higher graduation rates compared to 2-year institutions.\n",
        "\n",
        "6. Create a new variable, `df['levelXcontrol']=df['level']+', '+df['control']` that interacts level and control. Make a grouped kernel density plot. Which institutions appear to have the best graduation rates?\n",
        "\n",
        "Highest mean graduation rates are observed by: 2-year, Private not-for-profit and 4-year, Private not-for-profit.\n",
        "\n",
        "7. Make a kernel density plot of `aid_value`. Notice that your graph is \"bi-modal\", having two little peaks that represent locally most common values. Now group your graph by `level` and `control`. What explains the bi-modal nature of the graph? Use `groupby` and `.describe` to make grouped calculations of statistical descriptions of `aid_value` by `level` and `control`.\n",
        "\n",
        "The bi-modal nature of the aid_value density plot can be attributed to the different types of institutions. Private not-for-profit institutions, particularly at the 4-year level, offer higher aid values. This creates one peak at a higher aid value range. On the other hand, public and private for-profit institutions generally offer lower aid values, creating a second peak at a lower range. Private not-for-profit 4-year institutions have the highest average aid value ($15,111). Public 2-year institutions have the lowest average aid value ($4,126).\n",
        "\n",
        "8. Make a scatterplot of `grad_100_value` by `aid_value`. Describe what you see. Now make the same plot, grouping by `level` and then `control`. Describe what you see. For which kinds of institutions does aid seem to increase graduation rates?\n",
        "The scatterplot suggests that there is a positive relationship between aid value and graduation rates within 100% of expected time for private not-for-profit 4-year institutions. For public and private for-profit institutions, the relationship is not as clear.\n",
        "\n",
        "\n",
        "\n"
      ]
    },
    {
      "cell_type": "markdown",
      "id": "98d34a3b-c21d-4dc9-a8d2-fb7686804ceb",
      "metadata": {
        "id": "98d34a3b-c21d-4dc9-a8d2-fb7686804ceb"
      },
      "source": [
        "**Q4.** This question uses the Airbnb data to practice making visualizations.\n",
        "\n",
        "  1. Load the `./data/airbnb_hw.csv` data with Pandas. You should have cleaned the `Price` variable in question 2, and you'll need it later for this question.\n",
        "  2. What are are the dimensions of the data? How many observations are there? What are the variables included? Use `.head()` to examine the first few rows of data.\n",
        "  3. Cross tabulate `Room Type` and `Property Type`. What patterns do you see in what kinds of rentals are available? For which kinds of properties are private rooms more common than renting the entire property?\n",
        "  4. For `Price`, make a histogram, kernel density, box plot, and a statistical description of the variable. Are the data badly scaled? Are there many outliers? Use `log` to transform price into a new variable, `price_log`, and take these steps again.\n",
        "  5. Make a scatterplot of `price_log` and `Beds`. Describe what you see. Use `.groupby()` to compute a desciption of `Price` conditional on/grouped by the number of beds. Describe any patterns you see in the average price and standard deviation in prices.\n",
        "  6. Make a scatterplot of `price_log` and `Beds`, but color the graph by `Room Type` and `Property Type`. What patterns do you see? Compute a description of `Price` conditional on `Room Type` and `Property Type`. Which Room Type and Property Type have the highest prices on average? Which have the highest standard deviation? Does the mean or median appear to be a more reliable estimate of central tendency, and explain why?\n",
        "  7. We've looked a bit at this `price_log` and `Beds` scatterplot. Use seaborn to make a `jointplot` with `kind=hex`. Where are the data actually distributed? How does it affect the way you think about the plots in 5 and 6?"
      ]
    },
    {
      "cell_type": "markdown",
      "id": "649494cd-cfd6-4f80-992a-9994fc19e1d5",
      "metadata": {
        "id": "649494cd-cfd6-4f80-992a-9994fc19e1d5"
      },
      "source": [
        "**Q5.** Many important datasets contain a race variable, typically limited to a handful of values often including Black, White, Asian, Latino, and Indigenous. This question looks at data gathering efforts on this variable by the U.S. Federal government.\n",
        "\n",
        "1. How did the most recent US Census gather data on race?\n",
        "2. Why do we gather these data? What role do these kinds of data play in politics and society? Why does data quality matter?\n",
        "3. Please provide a constructive criticism of how the Census was conducted: What was done well? What do you think was missing? How should future large scale surveys be adjusted to best reflect the diversity of the population? Could some of the Census' good practices be adopted more widely to gather richer and more useful data?\n",
        "4. How did the Census gather data on sex and gender? Please provide a similar constructive criticism of their practices.\n",
        "5. When it comes to cleaning data, what concerns do you have about protected characteristics like sex, gender, sexual identity, or race? What challenges can you imagine arising when there are missing values? What good or bad practices might people adopt, and why?\n",
        "6. Suppose someone invented an algorithm to impute values for protected characteristics like race, gender, sex, or sexuality. What kinds of concerns would you have?"
      ]
    },
    {
      "cell_type": "markdown",
      "id": "2f38f2fd-6381-481d-bba9-017f3d363426",
      "metadata": {
        "id": "2f38f2fd-6381-481d-bba9-017f3d363426"
      },
      "source": [
        "**Q6.** Open the `./data/CBO_data.pdf` file. This contains tax data for 2019, explaining where the money comes from that the U.S. Federal Government Spends in terms of taxation on individuals/families and payroll taxes (the amount that your employer pays in taxes on your wages).\n",
        "\n",
        "For some context, the Federal government ultimately spent about $4.4 trillion in 2019, which was 21% of GDP (the total monetary value of all goods and services produced within the United States). Individual Income Taxes is the amount individuals pay on their wages to the Federal government, Corporate Income Taxes is the taxes individuals pay on capital gains from investment when they sell stock or other financial instruments, Payroll Taxes is the tax your employer pays on your wages, Excises and Customs Duties are taxes on goods or services like sin taxes on cigarettes or alcohol, and Estate and Gift Taxes are taxes paid on transfers of wealth to other people.\n",
        "\n",
        "1. Get the Millions of Families and Billions of Dollars data into a .csv file and load it with Pandas.\n",
        "2. Create a bar plot of individual income taxes by income decile. Explain what the graph shows. Why are some values negative?\n",
        "3. Create a bar plot of Total Federal Taxes by income decile. Which deciles are paying net positive amounts, and which are paying net negative amounts?\n",
        "4. Create a stacked bar plot for which Total Federal Taxes is grouped by Individual Income Taxes, Payroll Taxes, Excises and Customs Duties, and Estate and Gift Taxes. How does the share of taxes paid vary across the adjusted income deciles? (Hint: Are these the kind of data you want to melt?)\n",
        "5. Below the Total line for Millions of Families and Billions of Dollars, there are data for the richest of the richest families. Plot this alongside the bars for the deciles above the Total line. Describe your results.\n",
        "6. Get the Percent Distribution data into a .csv file and load it with Pandas. Create a bar graph of Total Federal Taxes by income decile.\n",
        "7. A tax system is progressive if higher-income and wealthier individuals pay more than lower-income and less wealthy individuals, and it is regressive if the opposite is true. Is the U.S. tax system progressive in terms of amount paid? In terms of the percentage of the overall total?\n",
        "8. Do the rich pay enough in taxes? Defend your answer."
      ]
    }
  ],
  "metadata": {
    "colab": {
      "provenance": []
    },
    "kernelspec": {
      "display_name": "Python 3 (ipykernel)",
      "language": "python",
      "name": "python3"
    },
    "language_info": {
      "codemirror_mode": {
        "name": "ipython",
        "version": 3
      },
      "file_extension": ".py",
      "mimetype": "text/x-python",
      "name": "python",
      "nbconvert_exporter": "python",
      "pygments_lexer": "ipython3",
      "version": "3.10.4"
    }
  },
  "nbformat": 4,
  "nbformat_minor": 5
}
